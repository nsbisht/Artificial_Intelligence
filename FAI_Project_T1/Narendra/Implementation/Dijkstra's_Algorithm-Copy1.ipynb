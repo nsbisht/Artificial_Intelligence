{
 "cells": [
  {
   "cell_type": "code",
   "execution_count": 191,
   "metadata": {},
   "outputs": [],
   "source": [
    "import sys \n",
    "\n",
    "\n",
    "class Graph(): \n",
    "    \n",
    "    def __init__(self, adjacency_matrix): \n",
    "        self.number_of_vertices = len(adjacency_matrix) \n",
    "        self.graph = adjacency_matrix\n",
    "  \n",
    "    def print_solution(self, src, dist):\n",
    "        initial_vertex = 65\n",
    "        print(f\"Vertex \\tMinimum Distance from Source Vertex({src})\")\n",
    "        for node in range(self.number_of_vertices): \n",
    "            print(f\"{chr(initial_vertex)}\\t{dist[node]}\")\n",
    "            initial_vertex = initial_vertex + 1\n",
    "  \n",
    "    # A utility function to find the vertex with  \n",
    "    # minimum distance value, from the set of vertices  \n",
    "    # not yet included in shortest path tree \n",
    "    def minimum_distance(self, minimum_distances_from_source_vertex, shortest_path_tree_status): \n",
    "  \n",
    "        # Initialize minimum distance for next node to be marked\n",
    "        minimum_distance = sys.maxsize \n",
    "  \n",
    "        # Search the nearest vertex \n",
    "        # not in the shortest path tree \n",
    "        for vertex_index in range(self.number_of_vertices): \n",
    "            \n",
    "            if (minimum_distances_from_source_vertex[vertex_index] < minimum_distance \n",
    "                and shortest_path_tree_status[vertex_index] == False):\n",
    "                \n",
    "                minimum_distance = minimum_distances_from_source_vertex[vertex_index] \n",
    "                minimum_distance_vertex_index = vertex_index \n",
    "             \n",
    "        #print(shortest_path_tree_status)  \n",
    "        return minimum_distance_vertex_index \n",
    "  \n",
    "    # Funtion that implements Dijkstra's single source  \n",
    "    # shortest path algorithm for a graph represented  \n",
    "    # using adjacency matrix representation \n",
    "    def dijkstra(self, src):\n",
    "        \n",
    "        source_vertex = src\n",
    "        \n",
    "        # Example: \"A\" -> 0\n",
    "        source_vertex_index = ord(src) - 65\n",
    "        \n",
    "        minimum_distances_from_source_vertex = [sys.maxsize] * self.number_of_vertices \n",
    "        minimum_distances_from_source_vertex[source_vertex_index] = 0\n",
    "        \n",
    "        shortest_path_tree_status = [False] * self.number_of_vertices \n",
    "  \n",
    "        for _ in range(self.number_of_vertices): \n",
    "  \n",
    "            # From the set of vertices not yet processed,\n",
    "            # Pick the vertex having the minimum distance from the source node  \n",
    "            # NOTE: current_minimum_distance_vertex_index is always equal to source_vertex_index in the first iteration \n",
    "            current_minimum_distance_vertex_index = self.minimum_distance(minimum_distances_from_source_vertex, shortest_path_tree_status) \n",
    "  \n",
    "            # Update the status minimum distance vertex\n",
    "            # in the shortest path tree \n",
    "            shortest_path_tree_status[current_minimum_distance_vertex_index] = True\n",
    "  \n",
    "            # Update distance values of the adjacent vertices of the picked vertex \n",
    "            # only if the current distance is greater than new distance \n",
    "            # and the vertex in not in the shortest path tree\n",
    "            \n",
    "            for v in range(self.number_of_vertices): \n",
    "                if (self.graph[current_minimum_distance_vertex_index][v] > 0 \n",
    "                    and shortest_path_tree_status[v] == False \n",
    "                    and minimum_distances_from_source_vertex[v] > (\n",
    "                        minimum_distances_from_source_vertex[current_minimum_distance_vertex_index] \n",
    "                        + self.graph[current_minimum_distance_vertex_index][v])\n",
    "                   ):\n",
    "                    \n",
    "                    minimum_distances_from_source_vertex[v] = (\n",
    "                        minimum_distances_from_source_vertex[current_minimum_distance_vertex_index] \n",
    "                        + self.graph[current_minimum_distance_vertex_index][v]\n",
    "                    ) \n",
    "                    \n",
    "        self.print_solution(source_vertex, minimum_distances_from_source_vertex) \n",
    "\n",
    "    # Function that implements Dijkstra's single source  \n",
    "    # shortest path algorithm for a graph represented  \n",
    "    # using adjacency matrix representation \n",
    "    def dijkstra_using_buckets(self, src):\n",
    "        \n",
    "        source_vertex = src\n",
    "        \n",
    "        # Example: \"A\" -> 0\n",
    "        source_vertex_index = ord(src) - 65\n",
    "        \n",
    "        minimum_distances_from_source_vertex = [sys.maxsize] * self.number_of_vertices \n",
    "        minimum_distances_from_source_vertex[source_vertex_index] = 0\n",
    "        \n",
    "        shortest_path_tree_status = [False] * self.number_of_vertices \n",
    "        \n",
    "        #buckets = [[] for bucket in range(max(map(max, self.graph)) + 1)]\n",
    "        buckets = [[] for bucket in range(25)]\n",
    "  \n",
    "        for _ in range(self.number_of_vertices): \n",
    "  \n",
    "            # From the set of vertices not yet processed,\n",
    "            # Pick the vertex having the minimum distance from the source node  \n",
    "            # NOTE: current_minimum_distance_vertex_index is always equal to source_vertex_index in the first iteration \n",
    "            # TO DO: Initialize or update the buckets\n",
    "      \n",
    "            for vertex_index, vertex_distance_from_source in enumerate(minimum_distances_from_source_vertex):\n",
    "                if ((shortest_path_tree_status[vertex_index] == False) \n",
    "                    and (vertex_distance_from_source < sys.maxsize)\n",
    "                    and vertex_index not in buckets[vertex_distance_from_source]):\n",
    "                    #print(vertex_distance_from_source)\n",
    "                    buckets[vertex_distance_from_source].append(vertex_index)\n",
    "            \n",
    "            #print(buckets)\n",
    "            # TO DO: Identify the current_minimum_distance_vertex_index using buckets\n",
    "            # current_minimum_distance_vertex_index = self.minimum_distance(minimum_distances_from_source_vertex, shortest_path_tree_status) \n",
    "            for bucket in buckets:\n",
    "                if len(bucket) != 0:\n",
    "                    current_minimum_distance_vertex_index = bucket.pop(0)\n",
    "                    break\n",
    "            #print(current_minimum_distance_vertex_index)\n",
    "            # Update the status minimum distance vertex\n",
    "            # in the shortest path tree \n",
    "            shortest_path_tree_status[current_minimum_distance_vertex_index] = True\n",
    "            #print(shortest_path_tree_status)\n",
    "            \n",
    "            # Update distance values of the adjacent vertices of the picked vertex \n",
    "            # only if the current distance is greater than new distance \n",
    "            # and the vertex in not in the shortest path tree\n",
    "            \n",
    "            for v in range(self.number_of_vertices): \n",
    "                if (self.graph[current_minimum_distance_vertex_index][v] > 0 \n",
    "                    and shortest_path_tree_status[v] == False \n",
    "                    and minimum_distances_from_source_vertex[v] > (\n",
    "                        minimum_distances_from_source_vertex[current_minimum_distance_vertex_index] \n",
    "                        + self.graph[current_minimum_distance_vertex_index][v])\n",
    "                   ):\n",
    "                    \n",
    "                    minimum_distances_from_source_vertex[v] = (\n",
    "                        minimum_distances_from_source_vertex[current_minimum_distance_vertex_index] \n",
    "                        + self.graph[current_minimum_distance_vertex_index][v]\n",
    "                    ) \n",
    "                    \n",
    "        self.print_solution(source_vertex, minimum_distances_from_source_vertex) \n",
    "\n",
    "        \n",
    "    def two_queues():\n",
    "        source_vertex = src\n",
    "        \n",
    "        # Example: \"A\" -> 0\n",
    "        source_vertex_index = ord(src) - 65\n",
    "        \n",
    "        minimum_distances_from_source_vertex = [sys.maxsize] * self.number_of_vertices \n",
    "        minimum_distances_from_source_vertex[source_vertex_index] = 0\n",
    "        \n",
    "        shortest_path_tree_status = [False] * self.number_of_vertices \n",
    "        \n",
    "        ...\n",
    "        \n",
    "        self.print_solution(source_vertex, minimum_distances_from_source_vertex)\n",
    "\n",
    "\n",
    "adjacency_matrix = [[0, 4, 0, 0, 0, 5, 0], \n",
    "                    [0, 0, 2, 0, 0, 0, 1], \n",
    "                    [0, 0, 0, 10, 0, 0, 3], \n",
    "                    [0, 0, 0, 0, 6, 0, 0], \n",
    "                    [0, 0, 0, 0, 0, 1, 0], \n",
    "                    [0, 0, 0, 0, 0, 0, 0], \n",
    "                    [2, 0, 0, 2, 4, 8, 0], \n",
    "                   ];  \n",
    "\n",
    "g = Graph(adjacency_matrix) "
   ]
  },
  {
   "cell_type": "markdown",
   "metadata": {},
   "source": [
    "![](G.png)"
   ]
  },
  {
   "cell_type": "markdown",
   "metadata": {},
   "source": [
    "0-a 1-b 2-c 3-d 4-e 5-f 6-g"
   ]
  },
  {
   "cell_type": "code",
   "execution_count": 192,
   "metadata": {},
   "outputs": [
    {
     "name": "stdout",
     "output_type": "stream",
     "text": [
      "Vertex \tMinimum Distance from Source Vertex(A)\n",
      "A\t0\n",
      "B\t4\n",
      "C\t6\n",
      "D\t7\n",
      "E\t9\n",
      "F\t5\n",
      "G\t5\n"
     ]
    }
   ],
   "source": [
    "g.dijkstra(\"A\");"
   ]
  },
  {
   "cell_type": "code",
   "execution_count": 193,
   "metadata": {},
   "outputs": [
    {
     "name": "stdout",
     "output_type": "stream",
     "text": [
      "Vertex \tMinimum Distance from Source Vertex(A)\n",
      "A\t0\n",
      "B\t4\n",
      "C\t6\n",
      "D\t7\n",
      "E\t9\n",
      "F\t5\n",
      "G\t5\n"
     ]
    }
   ],
   "source": [
    "g.dijkstra_using_buckets(\"A\");"
   ]
  },
  {
   "cell_type": "code",
   "execution_count": 194,
   "metadata": {},
   "outputs": [
    {
     "name": "stdout",
     "output_type": "stream",
     "text": [
      "Vertex \tMinimum Distance from Source Vertex(B)\n",
      "A\t3\n",
      "B\t0\n",
      "C\t2\n",
      "D\t3\n",
      "E\t5\n",
      "F\t6\n",
      "G\t1\n"
     ]
    }
   ],
   "source": [
    "g.dijkstra(\"B\");"
   ]
  },
  {
   "cell_type": "code",
   "execution_count": 195,
   "metadata": {},
   "outputs": [
    {
     "name": "stdout",
     "output_type": "stream",
     "text": [
      "Vertex \tMinimum Distance from Source Vertex(B)\n",
      "A\t3\n",
      "B\t0\n",
      "C\t2\n",
      "D\t3\n",
      "E\t5\n",
      "F\t6\n",
      "G\t1\n"
     ]
    }
   ],
   "source": [
    "g.dijkstra_using_buckets(\"B\");"
   ]
  },
  {
   "cell_type": "code",
   "execution_count": 196,
   "metadata": {},
   "outputs": [
    {
     "name": "stdout",
     "output_type": "stream",
     "text": [
      "Vertex \tMinimum Distance from Source Vertex(C)\n",
      "A\t5\n",
      "B\t9\n",
      "C\t0\n",
      "D\t5\n",
      "E\t7\n",
      "F\t8\n",
      "G\t3\n"
     ]
    }
   ],
   "source": [
    "g.dijkstra(\"C\");"
   ]
  },
  {
   "cell_type": "code",
   "execution_count": 197,
   "metadata": {},
   "outputs": [
    {
     "name": "stdout",
     "output_type": "stream",
     "text": [
      "Vertex \tMinimum Distance from Source Vertex(C)\n",
      "A\t5\n",
      "B\t9\n",
      "C\t0\n",
      "D\t5\n",
      "E\t7\n",
      "F\t8\n",
      "G\t3\n"
     ]
    }
   ],
   "source": [
    "g.dijkstra_using_buckets(\"C\");"
   ]
  },
  {
   "cell_type": "code",
   "execution_count": 199,
   "metadata": {},
   "outputs": [],
   "source": [
    "#g.dijkstra(\"D\");"
   ]
  },
  {
   "cell_type": "code",
   "execution_count": 200,
   "metadata": {},
   "outputs": [
    {
     "name": "stdout",
     "output_type": "stream",
     "text": [
      "Vertex \tMinimum Distance from Source Vertex(D)\n",
      "A\t9223372036854775807\n",
      "B\t9223372036854775807\n",
      "C\t9223372036854775807\n",
      "D\t0\n",
      "E\t6\n",
      "F\t7\n",
      "G\t9223372036854775807\n"
     ]
    }
   ],
   "source": [
    "g.dijkstra_using_buckets(\"D\");"
   ]
  },
  {
   "cell_type": "code",
   "execution_count": 201,
   "metadata": {},
   "outputs": [],
   "source": [
    "#g.dijkstra(\"E\");"
   ]
  },
  {
   "cell_type": "code",
   "execution_count": 202,
   "metadata": {},
   "outputs": [
    {
     "name": "stdout",
     "output_type": "stream",
     "text": [
      "Vertex \tMinimum Distance from Source Vertex(E)\n",
      "A\t9223372036854775807\n",
      "B\t9223372036854775807\n",
      "C\t9223372036854775807\n",
      "D\t9223372036854775807\n",
      "E\t0\n",
      "F\t1\n",
      "G\t9223372036854775807\n"
     ]
    }
   ],
   "source": [
    "g.dijkstra_using_buckets(\"E\");"
   ]
  },
  {
   "cell_type": "code",
   "execution_count": 203,
   "metadata": {},
   "outputs": [],
   "source": [
    "#g.dijkstra(\"F\");"
   ]
  },
  {
   "cell_type": "code",
   "execution_count": 204,
   "metadata": {},
   "outputs": [
    {
     "name": "stdout",
     "output_type": "stream",
     "text": [
      "Vertex \tMinimum Distance from Source Vertex(F)\n",
      "A\t9223372036854775807\n",
      "B\t9223372036854775807\n",
      "C\t9223372036854775807\n",
      "D\t9223372036854775807\n",
      "E\t9223372036854775807\n",
      "F\t0\n",
      "G\t9223372036854775807\n"
     ]
    }
   ],
   "source": [
    "g.dijkstra_using_buckets(\"F\");"
   ]
  },
  {
   "cell_type": "code",
   "execution_count": 208,
   "metadata": {},
   "outputs": [
    {
     "name": "stdout",
     "output_type": "stream",
     "text": [
      "Vertex \tMinimum Distance from Source Vertex(G)\n",
      "A\t2\n",
      "B\t6\n",
      "C\t8\n",
      "D\t2\n",
      "E\t4\n",
      "F\t5\n",
      "G\t0\n"
     ]
    }
   ],
   "source": [
    "g.dijkstra(\"G\");"
   ]
  },
  {
   "cell_type": "code",
   "execution_count": 209,
   "metadata": {},
   "outputs": [
    {
     "name": "stdout",
     "output_type": "stream",
     "text": [
      "Vertex \tMinimum Distance from Source Vertex(G)\n",
      "A\t2\n",
      "B\t6\n",
      "C\t8\n",
      "D\t2\n",
      "E\t4\n",
      "F\t5\n",
      "G\t0\n"
     ]
    }
   ],
   "source": [
    "g.dijkstra_using_buckets(\"G\");"
   ]
  },
  {
   "cell_type": "code",
   "execution_count": 122,
   "metadata": {},
   "outputs": [],
   "source": [
    "adjacency_matrix = [[0, 4, 0, 0, 0, 5, 0], \n",
    "                    [0, 0, 2, 0, 0, 0, 1], \n",
    "                    [0, 0, 0, 10, 0, 0, 3], \n",
    "                    [0, 0, 0, 0, 6, 0, 0], \n",
    "                    [0, 0, 0, 0, 0, 1, 0], \n",
    "                    [0, 0, 0, 0, 0, 0, 0], \n",
    "                    [2, 0, 0, 2, 4, 8, 0], \n",
    "                   ]; \n",
    "\n",
    "buckets = [[] for bucket in range(max(map(max, adjacency_matrix)) + 1)]"
   ]
  },
  {
   "cell_type": "code",
   "execution_count": 123,
   "metadata": {},
   "outputs": [
    {
     "data": {
      "text/plain": [
       "[[], [], [], [], [], [], [], [], [], [], []]"
      ]
     },
     "execution_count": 123,
     "metadata": {},
     "output_type": "execute_result"
    }
   ],
   "source": [
    "buckets"
   ]
  },
  {
   "cell_type": "code",
   "execution_count": 124,
   "metadata": {},
   "outputs": [],
   "source": [
    "buckets[0].append(0)"
   ]
  },
  {
   "cell_type": "code",
   "execution_count": 125,
   "metadata": {},
   "outputs": [
    {
     "data": {
      "text/plain": [
       "[[0], [], [], [], [], [], [], [], [], [], []]"
      ]
     },
     "execution_count": 125,
     "metadata": {},
     "output_type": "execute_result"
    }
   ],
   "source": [
    "buckets"
   ]
  },
  {
   "cell_type": "code",
   "execution_count": 126,
   "metadata": {},
   "outputs": [],
   "source": [
    "buckets[0].append(1)"
   ]
  },
  {
   "cell_type": "code",
   "execution_count": 127,
   "metadata": {},
   "outputs": [
    {
     "data": {
      "text/plain": [
       "[[0, 1], [], [], [], [], [], [], [], [], [], []]"
      ]
     },
     "execution_count": 127,
     "metadata": {},
     "output_type": "execute_result"
    }
   ],
   "source": [
    "buckets"
   ]
  },
  {
   "cell_type": "code",
   "execution_count": 128,
   "metadata": {},
   "outputs": [
    {
     "data": {
      "text/plain": [
       "0"
      ]
     },
     "execution_count": 128,
     "metadata": {},
     "output_type": "execute_result"
    }
   ],
   "source": [
    "buckets[0].pop(0)"
   ]
  },
  {
   "cell_type": "code",
   "execution_count": 129,
   "metadata": {},
   "outputs": [
    {
     "data": {
      "text/plain": [
       "[[1], [], [], [], [], [], [], [], [], [], []]"
      ]
     },
     "execution_count": 129,
     "metadata": {},
     "output_type": "execute_result"
    }
   ],
   "source": [
    "buckets"
   ]
  },
  {
   "cell_type": "code",
   "execution_count": 134,
   "metadata": {},
   "outputs": [
    {
     "name": "stdout",
     "output_type": "stream",
     "text": [
      "True\n"
     ]
    }
   ],
   "source": [
    "bucket = []\n",
    "print(not bucket)"
   ]
  },
  {
   "cell_type": "code",
   "execution_count": 135,
   "metadata": {},
   "outputs": [
    {
     "data": {
      "text/plain": [
       "0"
      ]
     },
     "execution_count": 135,
     "metadata": {},
     "output_type": "execute_result"
    }
   ],
   "source": [
    "len(bucket)"
   ]
  },
  {
   "cell_type": "code",
   "execution_count": null,
   "metadata": {},
   "outputs": [],
   "source": []
  }
 ],
 "metadata": {
  "kernelspec": {
   "display_name": "Python 3",
   "language": "python",
   "name": "python3"
  },
  "language_info": {
   "codemirror_mode": {
    "name": "ipython",
    "version": 3
   },
   "file_extension": ".py",
   "mimetype": "text/x-python",
   "name": "python",
   "nbconvert_exporter": "python",
   "pygments_lexer": "ipython3",
   "version": "3.8.5"
  }
 },
 "nbformat": 4,
 "nbformat_minor": 4
}
