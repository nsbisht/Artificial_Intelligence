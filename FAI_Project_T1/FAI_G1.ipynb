{
 "cells": [
  {
   "cell_type": "code",
   "execution_count": 1,
   "metadata": {},
   "outputs": [],
   "source": [
    "import sys"
   ]
  },
  {
   "cell_type": "code",
   "execution_count": 2,
   "metadata": {},
   "outputs": [],
   "source": [
    "class Graph(): \n",
    "    \n",
    "    def __init__(self, adjacency_matrix): \n",
    "        self.number_of_vertices = len(adjacency_matrix) \n",
    "        self.graph = adjacency_matrix"
   ]
  },
  {
   "cell_type": "code",
   "execution_count": 3,
   "metadata": {},
   "outputs": [],
   "source": [
    "class Two_Queue():\n",
    "    \n",
    "    def __init__(self):\n",
    "        self.Q1 = []\n",
    "        self.Q2 = []\n",
    "    \n",
    "    def enqueue_Q1(self, x):\n",
    "        self.Q1.append(x)\n",
    "    \n",
    "    def enqueue_Q2(self, x):\n",
    "        self.Q2.append(x)\n",
    "    \n",
    "    def dequeue_Q1(self):\n",
    "        self.Q1.pop(0)\n",
    "    \n",
    "    def dequeue_Q2(self): \n",
    "        self.Q2.pop(0)\n",
    "        \n",
    "    def is_empty_Q1(self):\n",
    "        return len(self.Q1) == 0\n",
    "    \n",
    "    def is_empty_Q2(self):\n",
    "        return len(self.Q2) == 0\n",
    "    \n",
    "    def is_empty(self):\n",
    "        return self.is_empty_Q2() and self.is_empty_Q1()"
   ]
  },
  {
   "cell_type": "code",
   "execution_count": 4,
   "metadata": {},
   "outputs": [],
   "source": [
    "class Search():\n",
    "    \n",
    "    def __init__(self, network):\n",
    "        self.network = network\n",
    "    \n",
    "    def print_solution(self, src, dist):\n",
    "        initial_vertex = 65\n",
    "        print(f\"Vertex \\tMinimum Distance from Source Vertex({src})\")\n",
    "        for node in range(self.network.number_of_vertices): \n",
    "            if dist[node] == sys.maxsize:\n",
    "                minimum_distance_from_source_vertex = \"No path\"\n",
    "            else:\n",
    "                minimum_distance_from_source_vertex = dist[node]\n",
    "            print(f\"{chr(initial_vertex)}\\t{minimum_distance_from_source_vertex}\")\n",
    "            initial_vertex = initial_vertex + 1\n",
    "\n",
    "    def dijkstra_using_buckets(self, src):\n",
    "        \n",
    "        source_vertex = src\n",
    "        \n",
    "        # Example: \"A\" -> 0\n",
    "        source_vertex_index = ord(src) - 65\n",
    "        \n",
    "        minimum_distances_from_source_vertex = [sys.maxsize] * self.network.number_of_vertices \n",
    "        minimum_distances_from_source_vertex[source_vertex_index] = 0\n",
    "        \n",
    "        shortest_path_tree_status = [False] * self.network.number_of_vertices \n",
    "        \n",
    "        # Maximum distance between any two node can be at max w(V – 1)\n",
    "        # w is maximum edge weight \n",
    "        # we can have at max V-1 edges between two vertices\n",
    "        buckets = [[] for bucket in range(max(map(max, self.network.graph)) * (self.network.number_of_vertices - 1))]\n",
    "  \n",
    "        for _ in range(self.network.number_of_vertices):  \n",
    "      \n",
    "            for vertex_index, vertex_distance_from_source in enumerate(minimum_distances_from_source_vertex):\n",
    "                if ((shortest_path_tree_status[vertex_index] == False) \n",
    "                    and (vertex_distance_from_source < sys.maxsize)\n",
    "                    and vertex_index not in buckets[vertex_distance_from_source]):\n",
    "\n",
    "                    buckets[vertex_distance_from_source].append(vertex_index)\n",
    "            \n",
    "            # From the set of vertices not yet processed,\n",
    "            # Pick the vertex having the minimum distance from the source node  \n",
    "            # NOTE: current_minimum_distance_vertex_index is always equal to source_vertex_index in the first iteration\n",
    "            \n",
    "            for bucket in buckets:\n",
    "                if len(bucket) != 0:\n",
    "                    current_minimum_distance_vertex_index = bucket.pop(0)\n",
    "                    break\n",
    "\n",
    "            # Update the status minimum distance vertex\n",
    "            # in the shortest path tree \n",
    "            shortest_path_tree_status[current_minimum_distance_vertex_index] = True\n",
    "            \n",
    "            # Update distance values of the adjacent vertices of the picked vertex \n",
    "            # only if the current distance is greater than new distance \n",
    "            # and the vertex in not in the shortest path tree\n",
    "            \n",
    "            for v in range(self.network.number_of_vertices): \n",
    "                if (self.network.graph[current_minimum_distance_vertex_index][v] > 0 \n",
    "                    and shortest_path_tree_status[v] == False \n",
    "                    and minimum_distances_from_source_vertex[v] > (\n",
    "                        minimum_distances_from_source_vertex[current_minimum_distance_vertex_index] \n",
    "                        + self.network.graph[current_minimum_distance_vertex_index][v])\n",
    "                   ):\n",
    "                    \n",
    "                    minimum_distances_from_source_vertex[v] = (\n",
    "                        minimum_distances_from_source_vertex[current_minimum_distance_vertex_index] \n",
    "                        + self.network.graph[current_minimum_distance_vertex_index][v]\n",
    "                    ) \n",
    "                    \n",
    "        self.print_solution(source_vertex, minimum_distances_from_source_vertex) \n",
    "\n",
    "        \n",
    "    def two_queues(self,src):\n",
    "        source_vertex = src\n",
    "        \n",
    "        # Example: \"A\" -> 0\n",
    "        source_vertex_index = ord(src) - 65\n",
    "        \n",
    "        minimum_distances_from_source_vertex = [sys.maxsize] * self.network.number_of_vertices \n",
    "        minimum_distances_from_source_vertex[source_vertex_index] = 0 \n",
    "        \n",
    "        Q = Two_Queue()\n",
    "        # Q1 - When a vertex is visited for the first time\n",
    "        # Q2 - Once a vertex is temporarily labeled, Q1 -> Q2\n",
    "        \n",
    "        Q.enqueue_Q2(source_vertex_index)\n",
    "\n",
    "        while not Q.is_empty():\n",
    "            \n",
    "            if not Q.is_empty_Q2():\n",
    "                intermediate_vertex = Q.Q2[0]\n",
    "                Q.dequeue_Q2()\n",
    "            else:\n",
    "                intermediate_vertex = Q.Q1[0]\n",
    "                Q.dequeue_Q1()\n",
    "\n",
    "            for vertex in range(self.network.number_of_vertices):\n",
    "                \n",
    "                if (self.network.graph[intermediate_vertex][vertex] > 0 \n",
    "                    and  minimum_distances_from_source_vertex[vertex] == sys.maxsize):\n",
    "                    if vertex not in Q.Q1:\n",
    "                        Q.enqueue_Q1(vertex)\n",
    "                    minimum_distances_from_source_vertex[vertex] = (minimum_distances_from_source_vertex[intermediate_vertex] \n",
    "                                                                    + self.network.graph[intermediate_vertex][vertex])\n",
    "                  \n",
    "                elif (self.network.graph[intermediate_vertex][vertex] > 0 \n",
    "                      and ((minimum_distances_from_source_vertex[intermediate_vertex] \n",
    "                            + self.network.graph[intermediate_vertex][vertex]) \n",
    "                           < minimum_distances_from_source_vertex[vertex])):\n",
    "                    if vertex not in Q.Q2:\n",
    "                        Q.enqueue_Q2(vertex)\n",
    "                    minimum_distances_from_source_vertex[vertex] = \\\n",
    "                    minimum_distances_from_source_vertex[intermediate_vertex] + self.network.graph[intermediate_vertex][vertex]\n",
    "        \n",
    "        \n",
    "        self.print_solution(source_vertex, minimum_distances_from_source_vertex)\n"
   ]
  },
  {
   "cell_type": "code",
   "execution_count": 5,
   "metadata": {},
   "outputs": [],
   "source": [
    "adjacency_matrix = [[0, 4, 0, 0, 0, 5, 0], \n",
    "                    [0, 0, 2, 0, 0, 0, 1], \n",
    "                    [0, 0, 0, 10, 0, 0, 3], \n",
    "                    [0, 0, 0, 0, 6, 0, 0], \n",
    "                    [0, 0, 0, 0, 0, 1, 0], \n",
    "                    [0, 0, 0, 0, 0, 0, 0], \n",
    "                    [2, 0, 0, 2, 4, 8, 0], \n",
    "                   ];  \n",
    "\n",
    "network = Graph(adjacency_matrix) "
   ]
  },
  {
   "cell_type": "markdown",
   "metadata": {},
   "source": [
    "![](G.png)"
   ]
  },
  {
   "cell_type": "code",
   "execution_count": 6,
   "metadata": {},
   "outputs": [],
   "source": [
    "s = Search(network)"
   ]
  },
  {
   "cell_type": "code",
   "execution_count": 7,
   "metadata": {},
   "outputs": [
    {
     "name": "stdout",
     "output_type": "stream",
     "text": [
      "Vertex \tMinimum Distance from Source Vertex(A)\n",
      "A\t0\n",
      "B\t4\n",
      "C\t6\n",
      "D\t7\n",
      "E\t9\n",
      "F\t5\n",
      "G\t5\n"
     ]
    }
   ],
   "source": [
    "s.two_queues(\"A\")"
   ]
  },
  {
   "cell_type": "code",
   "execution_count": 8,
   "metadata": {},
   "outputs": [
    {
     "name": "stdout",
     "output_type": "stream",
     "text": [
      "Vertex \tMinimum Distance from Source Vertex(A)\n",
      "A\t0\n",
      "B\t4\n",
      "C\t6\n",
      "D\t7\n",
      "E\t9\n",
      "F\t5\n",
      "G\t5\n"
     ]
    }
   ],
   "source": [
    "s.dijkstra_using_buckets(\"A\")"
   ]
  },
  {
   "cell_type": "code",
   "execution_count": 9,
   "metadata": {},
   "outputs": [
    {
     "name": "stdout",
     "output_type": "stream",
     "text": [
      "Vertex \tMinimum Distance from Source Vertex(B)\n",
      "A\t3\n",
      "B\t0\n",
      "C\t2\n",
      "D\t3\n",
      "E\t5\n",
      "F\t6\n",
      "G\t1\n"
     ]
    }
   ],
   "source": [
    "s.two_queues(\"B\")"
   ]
  },
  {
   "cell_type": "code",
   "execution_count": 10,
   "metadata": {},
   "outputs": [
    {
     "name": "stdout",
     "output_type": "stream",
     "text": [
      "Vertex \tMinimum Distance from Source Vertex(B)\n",
      "A\t3\n",
      "B\t0\n",
      "C\t2\n",
      "D\t3\n",
      "E\t5\n",
      "F\t6\n",
      "G\t1\n"
     ]
    }
   ],
   "source": [
    "s.dijkstra_using_buckets(\"B\")"
   ]
  },
  {
   "cell_type": "code",
   "execution_count": 11,
   "metadata": {},
   "outputs": [
    {
     "name": "stdout",
     "output_type": "stream",
     "text": [
      "Vertex \tMinimum Distance from Source Vertex(C)\n",
      "A\t5\n",
      "B\t9\n",
      "C\t0\n",
      "D\t5\n",
      "E\t7\n",
      "F\t8\n",
      "G\t3\n"
     ]
    }
   ],
   "source": [
    "s.two_queues(\"C\")"
   ]
  },
  {
   "cell_type": "code",
   "execution_count": 12,
   "metadata": {},
   "outputs": [
    {
     "name": "stdout",
     "output_type": "stream",
     "text": [
      "Vertex \tMinimum Distance from Source Vertex(C)\n",
      "A\t5\n",
      "B\t9\n",
      "C\t0\n",
      "D\t5\n",
      "E\t7\n",
      "F\t8\n",
      "G\t3\n"
     ]
    }
   ],
   "source": [
    "s.dijkstra_using_buckets(\"C\")"
   ]
  },
  {
   "cell_type": "code",
   "execution_count": 13,
   "metadata": {},
   "outputs": [
    {
     "name": "stdout",
     "output_type": "stream",
     "text": [
      "Vertex \tMinimum Distance from Source Vertex(D)\n",
      "A\tNo path\n",
      "B\tNo path\n",
      "C\tNo path\n",
      "D\t0\n",
      "E\t6\n",
      "F\t7\n",
      "G\tNo path\n"
     ]
    }
   ],
   "source": [
    "s.two_queues(\"D\")"
   ]
  },
  {
   "cell_type": "code",
   "execution_count": 14,
   "metadata": {},
   "outputs": [
    {
     "name": "stdout",
     "output_type": "stream",
     "text": [
      "Vertex \tMinimum Distance from Source Vertex(D)\n",
      "A\tNo path\n",
      "B\tNo path\n",
      "C\tNo path\n",
      "D\t0\n",
      "E\t6\n",
      "F\t7\n",
      "G\tNo path\n"
     ]
    }
   ],
   "source": [
    "s.dijkstra_using_buckets(\"D\")"
   ]
  },
  {
   "cell_type": "code",
   "execution_count": 15,
   "metadata": {},
   "outputs": [
    {
     "name": "stdout",
     "output_type": "stream",
     "text": [
      "Vertex \tMinimum Distance from Source Vertex(E)\n",
      "A\tNo path\n",
      "B\tNo path\n",
      "C\tNo path\n",
      "D\tNo path\n",
      "E\t0\n",
      "F\t1\n",
      "G\tNo path\n"
     ]
    }
   ],
   "source": [
    "s.two_queues(\"E\")"
   ]
  },
  {
   "cell_type": "code",
   "execution_count": 16,
   "metadata": {},
   "outputs": [
    {
     "name": "stdout",
     "output_type": "stream",
     "text": [
      "Vertex \tMinimum Distance from Source Vertex(E)\n",
      "A\tNo path\n",
      "B\tNo path\n",
      "C\tNo path\n",
      "D\tNo path\n",
      "E\t0\n",
      "F\t1\n",
      "G\tNo path\n"
     ]
    }
   ],
   "source": [
    "s.dijkstra_using_buckets(\"E\")"
   ]
  },
  {
   "cell_type": "code",
   "execution_count": 17,
   "metadata": {},
   "outputs": [
    {
     "name": "stdout",
     "output_type": "stream",
     "text": [
      "Vertex \tMinimum Distance from Source Vertex(F)\n",
      "A\tNo path\n",
      "B\tNo path\n",
      "C\tNo path\n",
      "D\tNo path\n",
      "E\tNo path\n",
      "F\t0\n",
      "G\tNo path\n"
     ]
    }
   ],
   "source": [
    "s.two_queues(\"F\")"
   ]
  },
  {
   "cell_type": "code",
   "execution_count": 18,
   "metadata": {},
   "outputs": [
    {
     "name": "stdout",
     "output_type": "stream",
     "text": [
      "Vertex \tMinimum Distance from Source Vertex(F)\n",
      "A\tNo path\n",
      "B\tNo path\n",
      "C\tNo path\n",
      "D\tNo path\n",
      "E\tNo path\n",
      "F\t0\n",
      "G\tNo path\n"
     ]
    }
   ],
   "source": [
    "s.dijkstra_using_buckets(\"F\")"
   ]
  },
  {
   "cell_type": "code",
   "execution_count": 19,
   "metadata": {},
   "outputs": [
    {
     "name": "stdout",
     "output_type": "stream",
     "text": [
      "Vertex \tMinimum Distance from Source Vertex(G)\n",
      "A\t2\n",
      "B\t6\n",
      "C\t8\n",
      "D\t2\n",
      "E\t4\n",
      "F\t5\n",
      "G\t0\n"
     ]
    }
   ],
   "source": [
    "s.two_queues(\"G\")"
   ]
  },
  {
   "cell_type": "code",
   "execution_count": 20,
   "metadata": {},
   "outputs": [
    {
     "name": "stdout",
     "output_type": "stream",
     "text": [
      "Vertex \tMinimum Distance from Source Vertex(G)\n",
      "A\t2\n",
      "B\t6\n",
      "C\t8\n",
      "D\t2\n",
      "E\t4\n",
      "F\t5\n",
      "G\t0\n"
     ]
    }
   ],
   "source": [
    "s.dijkstra_using_buckets(\"G\")"
   ]
  },
  {
   "cell_type": "code",
   "execution_count": null,
   "metadata": {},
   "outputs": [],
   "source": []
  }
 ],
 "metadata": {
  "kernelspec": {
   "display_name": "Python 3",
   "language": "python",
   "name": "python3"
  },
  "language_info": {
   "codemirror_mode": {
    "name": "ipython",
    "version": 3
   },
   "file_extension": ".py",
   "mimetype": "text/x-python",
   "name": "python",
   "nbconvert_exporter": "python",
   "pygments_lexer": "ipython3",
   "version": "3.8.5"
  }
 },
 "nbformat": 4,
 "nbformat_minor": 4
}
